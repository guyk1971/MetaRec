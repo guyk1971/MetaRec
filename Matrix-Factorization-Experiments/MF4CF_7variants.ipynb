{
 "cells": [
  {
   "cell_type": "markdown",
   "metadata": {},
   "source": [
    "# The 7 Variants of Matrix Factorization for Collaborative Filtering\n",
    "This notebook is based on a [medium blog post](https://towardsdatascience.com/recsys-series-part-4-the-7-variants-of-matrix-factorization-for-collaborative-filtering-368754e4fab5) by James Le.\n",
    "There is also an accompanying [github repo](https://github.com/khanhnamle1994/MetaRec)"
   ]
  },
  {
   "cell_type": "code",
   "execution_count": 3,
   "metadata": {},
   "outputs": [],
   "source": [
    "import numpy as np\n",
    "import pandas as pd\n",
    "import matplotlib\n",
    "%matplotlib inline"
   ]
  },
  {
   "cell_type": "markdown",
   "metadata": {},
   "source": [
    "## Dataset\n",
    "The models in this folder were tested on Movielens-1M dataset.  \n",
    "the repository includes 3 files. read the original README file for the structure of each file\n",
    "- `movies.dat` :  MovieID::Title::Genres\n",
    "- `users.dat` : UserID::Gender::Age::Occupation::Zip-code\n",
    "- `ratings.dat`: UserID::MovieID::Rating::Timestamp\n",
    "\n",
    "\n",
    "\n",
    "The file `data.py` performs the preprocessing and data splitting. lets load it to see what do we have in it "
   ]
  },
  {
   "cell_type": "code",
   "execution_count": 4,
   "metadata": {},
   "outputs": [
    {
     "data": {
      "text/plain": [
       "KeysView(<numpy.lib.npyio.NpzFile object at 0x7f324bdda760>)"
      ]
     },
     "execution_count": 4,
     "metadata": {},
     "output_type": "execute_result"
    }
   ],
   "source": [
    "# load dataset from npz file\n",
    "dataset = np.load('../ml-1m/dataset.npz')\n",
    "dataset.keys()"
   ]
  },
  {
   "cell_type": "markdown",
   "metadata": {},
   "source": [
    "note that the features in `x` are: `['user', 'item', 'rank', 'occupation']`"
   ]
  },
  {
   "cell_type": "code",
   "execution_count": 14,
   "metadata": {},
   "outputs": [
    {
     "name": "stdout",
     "output_type": "stream",
     "text": [
      "Number of users: 6041\n",
      "Number of items: 3953\n",
      "Number of ranks 2315.0\n",
      "Number of occupations 21\n",
      "number of features: 4\n",
      "number of training samples: 750042\n",
      "number of test samples: 250167\n"
     ]
    }
   ],
   "source": [
    "print('Number of users:', dataset['n_user'])\n",
    "print('Number of items:', dataset['n_item'])\n",
    "print('Number of ranks: ', dataset['n_ranks'])\n",
    "print('Number of occupations:', dataset['n_occu'])\n",
    "print('number of features:',dataset['train_x'].shape[1])\n",
    "print('number of training samples:',dataset['train_x'].shape[0])\n",
    "print('number of test samples:',dataset['test_x'].shape[0])\n"
   ]
  },
  {
   "cell_type": "code",
   "execution_count": 11,
   "metadata": {},
   "outputs": [
    {
     "data": {
      "text/plain": [
       "['train_x',\n",
       " 'train_y',\n",
       " 'train_xy',\n",
       " 'test_x',\n",
       " 'test_y',\n",
       " 'test_xy',\n",
       " 'n_user',\n",
       " 'n_item',\n",
       " 'n_ranks',\n",
       " 'n_occu']"
      ]
     },
     "execution_count": 11,
     "metadata": {},
     "output_type": "execute_result"
    }
   ],
   "source": [
    "list(dataset.keys())"
   ]
  },
  {
   "cell_type": "code",
   "execution_count": 16,
   "metadata": {},
   "outputs": [
    {
     "data": {
      "text/plain": [
       "numpy.ndarray"
      ]
     },
     "execution_count": 16,
     "metadata": {},
     "output_type": "execute_result"
    }
   ],
   "source": [
    "type(dataset['train_x'])"
   ]
  },
  {
   "cell_type": "code",
   "execution_count": null,
   "metadata": {},
   "outputs": [],
   "source": []
  }
 ],
 "metadata": {
  "kernelspec": {
   "display_name": "Python 3.9.12 ('rs_pttf')",
   "language": "python",
   "name": "python3"
  },
  "language_info": {
   "codemirror_mode": {
    "name": "ipython",
    "version": 3
   },
   "file_extension": ".py",
   "mimetype": "text/x-python",
   "name": "python",
   "nbconvert_exporter": "python",
   "pygments_lexer": "ipython3",
   "version": "3.9.12"
  },
  "orig_nbformat": 4,
  "vscode": {
   "interpreter": {
    "hash": "a4bde453cc438ab6b741c1681b871c5c956fa2aefbd59a6d14186da56a1e9fde"
   }
  }
 },
 "nbformat": 4,
 "nbformat_minor": 2
}
